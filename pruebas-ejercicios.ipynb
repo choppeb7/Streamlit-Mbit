{
 "cells": [
  {
   "cell_type": "markdown",
   "id": "98067b97",
   "metadata": {},
   "source": [
    "##Ejercicio 01"
   ]
  },
  {
   "cell_type": "code",
   "execution_count": 39,
   "id": "362424cb",
   "metadata": {},
   "outputs": [
    {
     "name": "stdout",
     "output_type": "stream",
     "text": [
      "200\n"
     ]
    }
   ],
   "source": [
    "import pandas as pd\n",
    "import streamlit as st\n",
    "import requests\n",
    "\n",
    "url=\"https://ifconfig.me/\"\n",
    "r=requests.get(url)\n",
    "r.headers[\"Content-type\"]\n",
    "print(r.status_code)"
   ]
  },
  {
   "cell_type": "code",
   "execution_count": 20,
   "id": "e3412a69",
   "metadata": {},
   "outputs": [
    {
     "name": "stdout",
     "output_type": "stream",
     "text": [
      "text/plain\n",
      "138.186.250.192\n"
     ]
    }
   ],
   "source": [
    "print(r.headers[\"Content-type\"])\n",
    "ip=r.text\n",
    "print(ip)"
   ]
  },
  {
   "cell_type": "code",
   "execution_count": 31,
   "id": "5f618b69",
   "metadata": {},
   "outputs": [
    {
     "data": {
      "text/html": [
       "<div>\n",
       "<style scoped>\n",
       "    .dataframe tbody tr th:only-of-type {\n",
       "        vertical-align: middle;\n",
       "    }\n",
       "\n",
       "    .dataframe tbody tr th {\n",
       "        vertical-align: top;\n",
       "    }\n",
       "\n",
       "    .dataframe thead th {\n",
       "        text-align: right;\n",
       "    }\n",
       "</style>\n",
       "<table border=\"1\" class=\"dataframe\">\n",
       "  <thead>\n",
       "    <tr style=\"text-align: right;\">\n",
       "      <th></th>\n",
       "      <th>status</th>\n",
       "      <th>country</th>\n",
       "      <th>countryCode</th>\n",
       "      <th>region</th>\n",
       "      <th>regionName</th>\n",
       "      <th>city</th>\n",
       "      <th>zip</th>\n",
       "      <th>lat</th>\n",
       "      <th>lon</th>\n",
       "      <th>timezone</th>\n",
       "      <th>isp</th>\n",
       "      <th>org</th>\n",
       "      <th>as</th>\n",
       "      <th>query</th>\n",
       "    </tr>\n",
       "  </thead>\n",
       "  <tbody>\n",
       "    <tr>\n",
       "      <th>0</th>\n",
       "      <td>success</td>\n",
       "      <td>El Salvador</td>\n",
       "      <td>SV</td>\n",
       "      <td>SS</td>\n",
       "      <td>San Salvador Department</td>\n",
       "      <td>San Salvador</td>\n",
       "      <td></td>\n",
       "      <td>13.6927</td>\n",
       "      <td>-89.1917</td>\n",
       "      <td>America/El_Salvador</td>\n",
       "      <td>Millicom Cable El Salvador S.a. De C.V.</td>\n",
       "      <td>Millicom Cable El Salvador S.a. De C.V</td>\n",
       "      <td>AS27773 MILLICOM CABLE EL SALVADOR S.A. DE C.V.</td>\n",
       "      <td>138.186.250.192</td>\n",
       "    </tr>\n",
       "  </tbody>\n",
       "</table>\n",
       "</div>"
      ],
      "text/plain": [
       "    status      country countryCode region               regionName  \\\n",
       "0  success  El Salvador          SV     SS  San Salvador Department   \n",
       "\n",
       "           city zip      lat      lon             timezone  \\\n",
       "0  San Salvador      13.6927 -89.1917  America/El_Salvador   \n",
       "\n",
       "                                       isp  \\\n",
       "0  Millicom Cable El Salvador S.a. De C.V.   \n",
       "\n",
       "                                      org  \\\n",
       "0  Millicom Cable El Salvador S.a. De C.V   \n",
       "\n",
       "                                                as            query  \n",
       "0  AS27773 MILLICOM CABLE EL SALVADOR S.A. DE C.V.  138.186.250.192  "
      ]
     },
     "execution_count": 31,
     "metadata": {},
     "output_type": "execute_result"
    }
   ],
   "source": [
    "url_api_address=f\"http://ip-api.com/json/{ip}\"\n",
    "r=requests.get(url_api_address)\n",
    "address=r.json()\n",
    "df=pd.json_normalize(address)\n",
    "df.head()"
   ]
  },
  {
   "cell_type": "code",
   "execution_count": 35,
   "id": "c90d49f0",
   "metadata": {},
   "outputs": [
    {
     "data": {
      "text/html": [
       "<div>\n",
       "<style scoped>\n",
       "    .dataframe tbody tr th:only-of-type {\n",
       "        vertical-align: middle;\n",
       "    }\n",
       "\n",
       "    .dataframe tbody tr th {\n",
       "        vertical-align: top;\n",
       "    }\n",
       "\n",
       "    .dataframe thead th {\n",
       "        text-align: right;\n",
       "    }\n",
       "</style>\n",
       "<table border=\"1\" class=\"dataframe\">\n",
       "  <thead>\n",
       "    <tr style=\"text-align: right;\">\n",
       "      <th></th>\n",
       "      <th>lat</th>\n",
       "      <th>lon</th>\n",
       "    </tr>\n",
       "  </thead>\n",
       "  <tbody>\n",
       "    <tr>\n",
       "      <th>0</th>\n",
       "      <td>13.6927</td>\n",
       "      <td>-89.1917</td>\n",
       "    </tr>\n",
       "  </tbody>\n",
       "</table>\n",
       "</div>"
      ],
      "text/plain": [
       "       lat      lon\n",
       "0  13.6927 -89.1917"
      ]
     },
     "execution_count": 35,
     "metadata": {},
     "output_type": "execute_result"
    }
   ],
   "source": [
    "df_filtered=df.loc[:, [\"lat\", \"lon\"]]\n",
    "df_filtered.head()\n"
   ]
  },
  {
   "cell_type": "code",
   "execution_count": 53,
   "id": "aa4082c0",
   "metadata": {},
   "outputs": [
    {
     "name": "stdout",
     "output_type": "stream",
     "text": [
      "[{'ability': {'name': 'overgrow', 'url': 'https://pokeapi.co/api/v2/ability/65/'}, 'is_hidden': False, 'slot': 1}, {'ability': {'name': 'chlorophyll', 'url': 'https://pokeapi.co/api/v2/ability/34/'}, 'is_hidden': True, 'slot': 3}]\n",
      "overgrow\n",
      "chlorophyll\n"
     ]
    }
   ],
   "source": [
    "pokemon_id=1\n",
    "url=f\"https://pokeapi.co/api/v2/pokemon/{pokemon_id}/\"\n",
    "r=requests.get(url)\n",
    "     ## Extraemos Datos\n",
    "json_pokemon=r.json()\n",
    "print(json_pokemon['abilities'])\n",
    "abilities=json_pokemon['abilities']\n",
    "\n",
    "for i in abilities:\n",
    "    print (i['ability']['name'])"
   ]
  },
  {
   "cell_type": "code",
   "execution_count": 64,
   "id": "c3d91c89",
   "metadata": {},
   "outputs": [
    {
     "name": "stdout",
     "output_type": "stream",
     "text": [
      "301\n"
     ]
    }
   ],
   "source": [
    "max_filas=201\n",
    "url=\"https://pokeapi.co/api/v2/pokemon/?limit=301\"\n",
    "r=requests.get(url)\n",
    "poke_json=r.json()\n",
    "print(len(poke_json[\"results\"]))"
   ]
  },
  {
   "cell_type": "code",
   "execution_count": null,
   "id": "7f0ad513",
   "metadata": {},
   "outputs": [],
   "source": []
  }
 ],
 "metadata": {
  "kernelspec": {
   "display_name": "Webscrapping",
   "language": "python",
   "name": "python3"
  },
  "language_info": {
   "codemirror_mode": {
    "name": "ipython",
    "version": 3
   },
   "file_extension": ".py",
   "mimetype": "text/x-python",
   "name": "python",
   "nbconvert_exporter": "python",
   "pygments_lexer": "ipython3",
   "version": "3.11.13"
  }
 },
 "nbformat": 4,
 "nbformat_minor": 5
}
